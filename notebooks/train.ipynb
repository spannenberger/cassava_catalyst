{
 "cells": [
  {
   "cell_type": "markdown",
   "metadata": {},
   "source": [
    "# Train model Pipeline"
   ]
  },
  {
   "cell_type": "markdown",
   "metadata": {},
   "source": [
    "This notebook prepare inside ur google colab notebook, like downloading actual code, data, setuping tensortboard,\n",
    "and running the experiment"
   ]
  },
  {
   "cell_type": "markdown",
   "metadata": {},
   "source": [
    "## Clone code form GitHub"
   ]
  },
  {
   "cell_type": "code",
   "execution_count": 1,
   "metadata": {},
   "outputs": [
    {
     "name": "stdout",
     "output_type": "stream",
     "text": [
      "Cloning into 'cassava-classification'...\n",
      "remote: Enumerating objects: 40, done.\u001b[K\n",
      "remote: Counting objects: 100% (40/40), done.\u001b[K\n",
      "remote: Compressing objects: 100% (29/29), done.\u001b[K\n",
      "remote: Total 40 (delta 10), reused 33 (delta 5), pack-reused 0\u001b[K\n",
      "Unpacking objects: 100% (40/40), 16.15 KiB | 551.00 KiB/s, done.\n",
      "Branch 'catalyst_pipeline' set up to track remote branch 'catalyst_pipeline' from 'origin'.\n",
      "Switched to a new branch 'catalyst_pipeline'\n"
     ]
    }
   ],
   "source": [
    "!rm -r -f cassava-classification\n",
    "!git clone https://github.com/alxmamaev/cassava-classification\n",
    "    \n",
    "# Replace branch name to that u need\n",
    "!cd cassava-classification && git checkout catalyst_pipeline\n",
    "!cp -r -f ./cassava-classification/config .\n",
    "!cp -r -f ./cassava-classification/src .\n",
    "!cp -r -f ./cassava-classification/requirements.txt .\n",
    "!rm -r -f ./cassava-classification"
   ]
  },
  {
   "cell_type": "markdown",
   "metadata": {},
   "source": [
    "## Install dependeces"
   ]
  },
  {
   "cell_type": "code",
   "execution_count": 2,
   "metadata": {},
   "outputs": [
    {
     "name": "stdout",
     "output_type": "stream",
     "text": [
      "Requirement already satisfied: catalyst==20.11 in /Users/alxmamaev/miniconda3/lib/python3.8/site-packages (from -r requirements.txt (line 1)) (20.11)\n",
      "Requirement already satisfied: numpy>=1.17.4 in /Users/alxmamaev/miniconda3/lib/python3.8/site-packages (from -r requirements.txt (line 2)) (1.19.4)\n",
      "Requirement already satisfied: opencv-python>=4.0 in /Users/alxmamaev/miniconda3/lib/python3.8/site-packages (from -r requirements.txt (line 3)) (4.4.0.46)\n",
      "Requirement already satisfied: torch>=1.3.1 in /Users/alxmamaev/miniconda3/lib/python3.8/site-packages (from -r requirements.txt (line 4)) (1.7.0)\n",
      "Requirement already satisfied: albumentations==0.4.3 in /Users/alxmamaev/miniconda3/lib/python3.8/site-packages (from -r requirements.txt (line 5)) (0.4.3)\n",
      "Requirement already satisfied: plotly>=4.1.0 in /Users/alxmamaev/miniconda3/lib/python3.8/site-packages (from catalyst==20.11->-r requirements.txt (line 1)) (4.13.0)\n",
      "Requirement already satisfied: tensorboardX in /Users/alxmamaev/miniconda3/lib/python3.8/site-packages (from catalyst==20.11->-r requirements.txt (line 1)) (2.1)\n",
      "Requirement already satisfied: matplotlib in /Users/alxmamaev/miniconda3/lib/python3.8/site-packages (from catalyst==20.11->-r requirements.txt (line 1)) (3.3.3)\n",
      "Requirement already satisfied: scikit-learn>=0.20 in /Users/alxmamaev/miniconda3/lib/python3.8/site-packages (from catalyst==20.11->-r requirements.txt (line 1)) (0.23.2)\n",
      "Requirement already satisfied: ipython in /Users/alxmamaev/miniconda3/lib/python3.8/site-packages (from catalyst==20.11->-r requirements.txt (line 1)) (7.19.0)\n",
      "Requirement already satisfied: PyYAML in /Users/alxmamaev/miniconda3/lib/python3.8/site-packages (from catalyst==20.11->-r requirements.txt (line 1)) (5.3.1)\n",
      "Requirement already satisfied: tensorboard>=1.14.0 in /Users/alxmamaev/miniconda3/lib/python3.8/site-packages (from catalyst==20.11->-r requirements.txt (line 1)) (2.4.0)\n",
      "Requirement already satisfied: pandas>=0.22 in /Users/alxmamaev/miniconda3/lib/python3.8/site-packages (from catalyst==20.11->-r requirements.txt (line 1)) (1.1.4)\n",
      "Requirement already satisfied: deprecation in /Users/alxmamaev/miniconda3/lib/python3.8/site-packages (from catalyst==20.11->-r requirements.txt (line 1)) (2.1.0)\n",
      "Requirement already satisfied: GitPython>=3.1.1 in /Users/alxmamaev/miniconda3/lib/python3.8/site-packages (from catalyst==20.11->-r requirements.txt (line 1)) (3.1.11)\n",
      "Requirement already satisfied: packaging in /Users/alxmamaev/miniconda3/lib/python3.8/site-packages (from catalyst==20.11->-r requirements.txt (line 1)) (20.7)\n",
      "Requirement already satisfied: tqdm>=4.33.0 in /Users/alxmamaev/miniconda3/lib/python3.8/site-packages (from catalyst==20.11->-r requirements.txt (line 1)) (4.51.0)\n",
      "Requirement already satisfied: future in /Users/alxmamaev/miniconda3/lib/python3.8/site-packages (from torch>=1.3.1->-r requirements.txt (line 4)) (0.18.2)\n",
      "Requirement already satisfied: dataclasses in /Users/alxmamaev/miniconda3/lib/python3.8/site-packages (from torch>=1.3.1->-r requirements.txt (line 4)) (0.6)\n",
      "Requirement already satisfied: typing-extensions in /Users/alxmamaev/miniconda3/lib/python3.8/site-packages (from torch>=1.3.1->-r requirements.txt (line 4)) (3.7.4.3)\n",
      "Requirement already satisfied: scipy in /Users/alxmamaev/miniconda3/lib/python3.8/site-packages (from albumentations==0.4.3->-r requirements.txt (line 5)) (1.5.4)\n",
      "Requirement already satisfied: opencv-python-headless>=4.1.1 in /Users/alxmamaev/miniconda3/lib/python3.8/site-packages (from albumentations==0.4.3->-r requirements.txt (line 5)) (4.4.0.46)\n",
      "Requirement already satisfied: imgaug<0.2.7,>=0.2.5 in /Users/alxmamaev/miniconda3/lib/python3.8/site-packages (from albumentations==0.4.3->-r requirements.txt (line 5)) (0.2.6)\n",
      "Requirement already satisfied: six in /Users/alxmamaev/miniconda3/lib/python3.8/site-packages (from plotly>=4.1.0->catalyst==20.11->-r requirements.txt (line 1)) (1.15.0)\n",
      "Requirement already satisfied: retrying>=1.3.3 in /Users/alxmamaev/miniconda3/lib/python3.8/site-packages (from plotly>=4.1.0->catalyst==20.11->-r requirements.txt (line 1)) (1.3.3)\n",
      "Requirement already satisfied: protobuf>=3.8.0 in /Users/alxmamaev/miniconda3/lib/python3.8/site-packages (from tensorboardX->catalyst==20.11->-r requirements.txt (line 1)) (3.14.0)\n",
      "Requirement already satisfied: pyparsing!=2.0.4,!=2.1.2,!=2.1.6,>=2.0.3 in /Users/alxmamaev/miniconda3/lib/python3.8/site-packages (from matplotlib->catalyst==20.11->-r requirements.txt (line 1)) (2.4.7)\n",
      "Requirement already satisfied: python-dateutil>=2.1 in /Users/alxmamaev/miniconda3/lib/python3.8/site-packages (from matplotlib->catalyst==20.11->-r requirements.txt (line 1)) (2.8.1)\n",
      "Requirement already satisfied: cycler>=0.10 in /Users/alxmamaev/miniconda3/lib/python3.8/site-packages (from matplotlib->catalyst==20.11->-r requirements.txt (line 1)) (0.10.0)\n",
      "Requirement already satisfied: pillow>=6.2.0 in /Users/alxmamaev/miniconda3/lib/python3.8/site-packages (from matplotlib->catalyst==20.11->-r requirements.txt (line 1)) (6.2.2)\n",
      "Requirement already satisfied: kiwisolver>=1.0.1 in /Users/alxmamaev/miniconda3/lib/python3.8/site-packages (from matplotlib->catalyst==20.11->-r requirements.txt (line 1)) (1.3.1)\n",
      "Requirement already satisfied: threadpoolctl>=2.0.0 in /Users/alxmamaev/miniconda3/lib/python3.8/site-packages (from scikit-learn>=0.20->catalyst==20.11->-r requirements.txt (line 1)) (2.1.0)\n",
      "Requirement already satisfied: joblib>=0.11 in /Users/alxmamaev/miniconda3/lib/python3.8/site-packages (from scikit-learn>=0.20->catalyst==20.11->-r requirements.txt (line 1)) (0.17.0)\n",
      "Requirement already satisfied: jedi>=0.10 in /Users/alxmamaev/miniconda3/lib/python3.8/site-packages (from ipython->catalyst==20.11->-r requirements.txt (line 1)) (0.17.2)\n",
      "Requirement already satisfied: traitlets>=4.2 in /Users/alxmamaev/miniconda3/lib/python3.8/site-packages (from ipython->catalyst==20.11->-r requirements.txt (line 1)) (5.0.5)\n",
      "Requirement already satisfied: backcall in /Users/alxmamaev/miniconda3/lib/python3.8/site-packages (from ipython->catalyst==20.11->-r requirements.txt (line 1)) (0.2.0)\n",
      "Requirement already satisfied: decorator in /Users/alxmamaev/miniconda3/lib/python3.8/site-packages (from ipython->catalyst==20.11->-r requirements.txt (line 1)) (4.4.2)\n",
      "Requirement already satisfied: prompt-toolkit!=3.0.0,!=3.0.1,<3.1.0,>=2.0.0 in /Users/alxmamaev/miniconda3/lib/python3.8/site-packages (from ipython->catalyst==20.11->-r requirements.txt (line 1)) (3.0.8)\n",
      "Requirement already satisfied: appnope; sys_platform == \"darwin\" in /Users/alxmamaev/miniconda3/lib/python3.8/site-packages (from ipython->catalyst==20.11->-r requirements.txt (line 1)) (0.1.2)\n",
      "Requirement already satisfied: pickleshare in /Users/alxmamaev/miniconda3/lib/python3.8/site-packages (from ipython->catalyst==20.11->-r requirements.txt (line 1)) (0.7.5)\n",
      "Requirement already satisfied: pexpect>4.3; sys_platform != \"win32\" in /Users/alxmamaev/miniconda3/lib/python3.8/site-packages (from ipython->catalyst==20.11->-r requirements.txt (line 1)) (4.8.0)\n",
      "Requirement already satisfied: pygments in /Users/alxmamaev/miniconda3/lib/python3.8/site-packages (from ipython->catalyst==20.11->-r requirements.txt (line 1)) (2.7.2)\n",
      "Requirement already satisfied: setuptools>=18.5 in /Users/alxmamaev/miniconda3/lib/python3.8/site-packages (from ipython->catalyst==20.11->-r requirements.txt (line 1)) (50.3.1.post20201107)\n",
      "Requirement already satisfied: grpcio>=1.24.3 in /Users/alxmamaev/miniconda3/lib/python3.8/site-packages (from tensorboard>=1.14.0->catalyst==20.11->-r requirements.txt (line 1)) (1.34.0)\n",
      "Requirement already satisfied: werkzeug>=0.11.15 in /Users/alxmamaev/miniconda3/lib/python3.8/site-packages (from tensorboard>=1.14.0->catalyst==20.11->-r requirements.txt (line 1)) (1.0.1)\n",
      "Requirement already satisfied: google-auth<2,>=1.6.3 in /Users/alxmamaev/miniconda3/lib/python3.8/site-packages (from tensorboard>=1.14.0->catalyst==20.11->-r requirements.txt (line 1)) (1.23.0)\n",
      "Requirement already satisfied: google-auth-oauthlib<0.5,>=0.4.1 in /Users/alxmamaev/miniconda3/lib/python3.8/site-packages (from tensorboard>=1.14.0->catalyst==20.11->-r requirements.txt (line 1)) (0.4.2)\n",
      "Requirement already satisfied: wheel>=0.26; python_version >= \"3\" in /Users/alxmamaev/miniconda3/lib/python3.8/site-packages (from tensorboard>=1.14.0->catalyst==20.11->-r requirements.txt (line 1)) (0.35.1)\n",
      "Requirement already satisfied: requests<3,>=2.21.0 in /Users/alxmamaev/miniconda3/lib/python3.8/site-packages (from tensorboard>=1.14.0->catalyst==20.11->-r requirements.txt (line 1)) (2.24.0)\n",
      "Requirement already satisfied: absl-py>=0.4 in /Users/alxmamaev/miniconda3/lib/python3.8/site-packages (from tensorboard>=1.14.0->catalyst==20.11->-r requirements.txt (line 1)) (0.11.0)\n",
      "Requirement already satisfied: tensorboard-plugin-wit>=1.6.0 in /Users/alxmamaev/miniconda3/lib/python3.8/site-packages (from tensorboard>=1.14.0->catalyst==20.11->-r requirements.txt (line 1)) (1.7.0)\n",
      "Requirement already satisfied: markdown>=2.6.8 in /Users/alxmamaev/miniconda3/lib/python3.8/site-packages (from tensorboard>=1.14.0->catalyst==20.11->-r requirements.txt (line 1)) (3.3.3)\n",
      "Requirement already satisfied: pytz>=2017.2 in /Users/alxmamaev/miniconda3/lib/python3.8/site-packages (from pandas>=0.22->catalyst==20.11->-r requirements.txt (line 1)) (2020.4)\n",
      "Requirement already satisfied: gitdb<5,>=4.0.1 in /Users/alxmamaev/miniconda3/lib/python3.8/site-packages (from GitPython>=3.1.1->catalyst==20.11->-r requirements.txt (line 1)) (4.0.5)\n",
      "Requirement already satisfied: scikit-image>=0.11.0 in /Users/alxmamaev/miniconda3/lib/python3.8/site-packages (from imgaug<0.2.7,>=0.2.5->albumentations==0.4.3->-r requirements.txt (line 5)) (0.17.2)\n"
     ]
    },
    {
     "name": "stdout",
     "output_type": "stream",
     "text": [
      "Requirement already satisfied: parso<0.8.0,>=0.7.0 in /Users/alxmamaev/miniconda3/lib/python3.8/site-packages (from jedi>=0.10->ipython->catalyst==20.11->-r requirements.txt (line 1)) (0.7.1)\n",
      "Requirement already satisfied: ipython-genutils in /Users/alxmamaev/miniconda3/lib/python3.8/site-packages (from traitlets>=4.2->ipython->catalyst==20.11->-r requirements.txt (line 1)) (0.2.0)\n",
      "Requirement already satisfied: wcwidth in /Users/alxmamaev/miniconda3/lib/python3.8/site-packages (from prompt-toolkit!=3.0.0,!=3.0.1,<3.1.0,>=2.0.0->ipython->catalyst==20.11->-r requirements.txt (line 1)) (0.2.5)\n",
      "Requirement already satisfied: ptyprocess>=0.5 in /Users/alxmamaev/miniconda3/lib/python3.8/site-packages (from pexpect>4.3; sys_platform != \"win32\"->ipython->catalyst==20.11->-r requirements.txt (line 1)) (0.6.0)\n",
      "Requirement already satisfied: cachetools<5.0,>=2.0.0 in /Users/alxmamaev/miniconda3/lib/python3.8/site-packages (from google-auth<2,>=1.6.3->tensorboard>=1.14.0->catalyst==20.11->-r requirements.txt (line 1)) (4.1.1)\n",
      "Requirement already satisfied: rsa<5,>=3.1.4; python_version >= \"3.5\" in /Users/alxmamaev/miniconda3/lib/python3.8/site-packages (from google-auth<2,>=1.6.3->tensorboard>=1.14.0->catalyst==20.11->-r requirements.txt (line 1)) (4.6)\n",
      "Requirement already satisfied: pyasn1-modules>=0.2.1 in /Users/alxmamaev/miniconda3/lib/python3.8/site-packages (from google-auth<2,>=1.6.3->tensorboard>=1.14.0->catalyst==20.11->-r requirements.txt (line 1)) (0.2.8)\n",
      "Requirement already satisfied: requests-oauthlib>=0.7.0 in /Users/alxmamaev/miniconda3/lib/python3.8/site-packages (from google-auth-oauthlib<0.5,>=0.4.1->tensorboard>=1.14.0->catalyst==20.11->-r requirements.txt (line 1)) (1.3.0)\n",
      "Requirement already satisfied: certifi>=2017.4.17 in /Users/alxmamaev/miniconda3/lib/python3.8/site-packages (from requests<3,>=2.21.0->tensorboard>=1.14.0->catalyst==20.11->-r requirements.txt (line 1)) (2020.6.20)\n",
      "Requirement already satisfied: urllib3!=1.25.0,!=1.25.1,<1.26,>=1.21.1 in /Users/alxmamaev/miniconda3/lib/python3.8/site-packages (from requests<3,>=2.21.0->tensorboard>=1.14.0->catalyst==20.11->-r requirements.txt (line 1)) (1.25.11)\n",
      "Requirement already satisfied: chardet<4,>=3.0.2 in /Users/alxmamaev/miniconda3/lib/python3.8/site-packages (from requests<3,>=2.21.0->tensorboard>=1.14.0->catalyst==20.11->-r requirements.txt (line 1)) (3.0.4)\n",
      "Requirement already satisfied: idna<3,>=2.5 in /Users/alxmamaev/miniconda3/lib/python3.8/site-packages (from requests<3,>=2.21.0->tensorboard>=1.14.0->catalyst==20.11->-r requirements.txt (line 1)) (2.10)\n",
      "Requirement already satisfied: smmap<4,>=3.0.1 in /Users/alxmamaev/miniconda3/lib/python3.8/site-packages (from gitdb<5,>=4.0.1->GitPython>=3.1.1->catalyst==20.11->-r requirements.txt (line 1)) (3.0.4)\n",
      "Requirement already satisfied: networkx>=2.0 in /Users/alxmamaev/miniconda3/lib/python3.8/site-packages (from scikit-image>=0.11.0->imgaug<0.2.7,>=0.2.5->albumentations==0.4.3->-r requirements.txt (line 5)) (2.5)\n",
      "Requirement already satisfied: tifffile>=2019.7.26 in /Users/alxmamaev/miniconda3/lib/python3.8/site-packages (from scikit-image>=0.11.0->imgaug<0.2.7,>=0.2.5->albumentations==0.4.3->-r requirements.txt (line 5)) (2020.12.4)\n",
      "Requirement already satisfied: PyWavelets>=1.1.1 in /Users/alxmamaev/miniconda3/lib/python3.8/site-packages (from scikit-image>=0.11.0->imgaug<0.2.7,>=0.2.5->albumentations==0.4.3->-r requirements.txt (line 5)) (1.1.1)\n",
      "Requirement already satisfied: imageio>=2.3.0 in /Users/alxmamaev/miniconda3/lib/python3.8/site-packages (from scikit-image>=0.11.0->imgaug<0.2.7,>=0.2.5->albumentations==0.4.3->-r requirements.txt (line 5)) (2.9.0)\n",
      "Requirement already satisfied: pyasn1>=0.1.3 in /Users/alxmamaev/miniconda3/lib/python3.8/site-packages (from rsa<5,>=3.1.4; python_version >= \"3.5\"->google-auth<2,>=1.6.3->tensorboard>=1.14.0->catalyst==20.11->-r requirements.txt (line 1)) (0.4.8)\n",
      "Requirement already satisfied: oauthlib>=3.0.0 in /Users/alxmamaev/miniconda3/lib/python3.8/site-packages (from requests-oauthlib>=0.7.0->google-auth-oauthlib<0.5,>=0.4.1->tensorboard>=1.14.0->catalyst==20.11->-r requirements.txt (line 1)) (3.1.0)\n"
     ]
    }
   ],
   "source": [
    "!pip install -r requirements.txt"
   ]
  },
  {
   "cell_type": "markdown",
   "metadata": {},
   "source": [
    "## Prepare directories"
   ]
  },
  {
   "cell_type": "code",
   "execution_count": null,
   "metadata": {},
   "outputs": [],
   "source": [
    "# Remove logs if exists, and make if not exists\n",
    "!rm -r -f logs\n",
    "!mkdir logs"
   ]
  },
  {
   "cell_type": "markdown",
   "metadata": {},
   "source": [
    "## Setting up Tensorboard"
   ]
  },
  {
   "cell_type": "code",
   "execution_count": null,
   "metadata": {},
   "outputs": [],
   "source": [
    "# Download ngrok to tunnel port for jupyter\n",
    "!rm -r -f ngrok\n",
    "!wget https://bin.equinox.io/c/4VmDzA7iaHb/ngrok-stable-linux-amd64.zip\n",
    "!unzip ngrok-stable-linux-amd64.zip\n",
    "!rm -r -f ngrok-stable-linux-amd64.zip\n",
    "!chmod +x ngrok"
   ]
  },
  {
   "cell_type": "code",
   "execution_count": null,
   "metadata": {},
   "outputs": [],
   "source": [
    "# Run tensorboard\n",
    "LOG_DIR = './logs'\n",
    "get_ipython().system_raw(\n",
    "    'tensorboard --logdir {} --host 0.0.0.0 --port 6006 &'\n",
    "    .format(LOG_DIR)\n",
    ")\n",
    "\n",
    "# Run ngrok for making public URL\n",
    "get_ipython().system_raw('./ngrok http 6006 &')\n",
    "\n",
    "# Getting a public url\n",
    "!curl -s http://localhost:4040/api/tunnels | python3 -c \\\n",
    " \"import sys, json; print(json.load(sys.stdin)['tunnels'][0]['public_url'])\""
   ]
  },
  {
   "cell_type": "markdown",
   "metadata": {},
   "source": [
    "## Run model training"
   ]
  },
  {
   "cell_type": "code",
   "execution_count": 6,
   "metadata": {
    "scrolled": true
   },
   "outputs": [
    {
     "name": "stdout",
     "output_type": "stream",
     "text": [
      "1/3 * Epoch (train):   7% 20/268 [03:24<42:38, 10.32s/it, accuracy01=0.641, accuracy03=0.844, loss=1.067]^C\n"
     ]
    }
   ],
   "source": [
    "# Run experiment\n",
    "\n",
    "!catalyst-dl run --config=config/train.yml"
   ]
  },
  {
   "cell_type": "markdown",
   "metadata": {},
   "source": [
    "## Ta-da-da!"
   ]
  },
  {
   "cell_type": "markdown",
   "metadata": {},
   "source": [
    "*Now u can check metrics at Tensorboard and download checkpoint from logs/checkpoints*"
   ]
  }
 ],
 "metadata": {
  "kernelspec": {
   "display_name": "Python 3",
   "language": "python",
   "name": "python3"
  },
  "language_info": {
   "codemirror_mode": {
    "name": "ipython",
    "version": 3
   },
   "file_extension": ".py",
   "mimetype": "text/x-python",
   "name": "python",
   "nbconvert_exporter": "python",
   "pygments_lexer": "ipython3",
   "version": "3.8.5"
  }
 },
 "nbformat": 4,
 "nbformat_minor": 2
}
