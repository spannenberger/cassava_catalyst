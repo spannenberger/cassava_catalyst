{
 "cells": [
  {
   "cell_type": "markdown",
   "metadata": {},
   "source": [
    "# Train model Pipeline"
   ]
  },
  {
   "cell_type": "markdown",
   "metadata": {},
   "source": [
    "## Clone with code"
   ]
  },
  {
   "cell_type": "code",
   "execution_count": 18,
   "metadata": {},
   "outputs": [
    {
     "name": "stdout",
     "output_type": "stream",
     "text": [
      "Cloning into 'cassava-classification'...\n",
      "remote: Enumerating objects: 32, done.\u001b[K\n",
      "remote: Counting objects: 100% (32/32), done.\u001b[K\n",
      "remote: Compressing objects: 100% (22/22), done.\u001b[K\n",
      "remote: Total 32 (delta 6), reused 29 (delta 5), pack-reused 0\u001b[K\n",
      "Unpacking objects: 100% (32/32), 14.14 KiB | 556.00 KiB/s, done.\n",
      "Branch 'catalyst_pipeline' set up to track remote branch 'catalyst_pipeline' from 'origin'.\n",
      "Switched to a new branch 'catalyst_pipeline'\n",
      "cp: ./cassava-classification/requirements.txt: No such file or directory\n"
     ]
    }
   ],
   "source": [
    "!rm -r -f cassava-classification\n",
    "!git clone https://github.com/alxmamaev/cassava-classification\n",
    "    \n",
    "# Replace branch name to that u need\n",
    "!cd cassava-classification && git checkout catalyst_pipeline\n",
    "!cp -r -f ./cassava-classification/src .\n",
    "!cp -r -f ./cassava-classification/requirements.txt .\n",
    "!rm -r -f ./cassava-classification"
   ]
  },
  {
   "cell_type": "markdown",
   "metadata": {},
   "source": [
    "## Install dependeces"
   ]
  },
  {
   "cell_type": "code",
   "execution_count": null,
   "metadata": {},
   "outputs": [],
   "source": [
    "!pip install -r requirements.txt"
   ]
  },
  {
   "cell_type": "markdown",
   "metadata": {},
   "source": [
    "## Prepare directories"
   ]
  },
  {
   "cell_type": "code",
   "execution_count": 17,
   "metadata": {},
   "outputs": [],
   "source": [
    "# Remove logs if exists, and make if not exists\n",
    "!rm -r -f logs\n",
    "!mkdir logs"
   ]
  },
  {
   "cell_type": "markdown",
   "metadata": {},
   "source": [
    "## Setting up ngrok"
   ]
  },
  {
   "cell_type": "code",
   "execution_count": 8,
   "metadata": {},
   "outputs": [
    {
     "name": "stdout",
     "output_type": "stream",
     "text": [
      "--2020-12-06 02:29:36--  https://bin.equinox.io/c/4VmDzA7iaHb/ngrok-stable-linux-amd64.zip\n",
      "Resolving bin.equinox.io (bin.equinox.io)... 52.21.175.83, 35.153.56.97, 52.200.34.95, ...\n",
      "Connecting to bin.equinox.io (bin.equinox.io)|52.21.175.83|:443... connected.\n",
      "HTTP request sent, awaiting response... 200 OK\n",
      "Length: 13773305 (13M) [application/octet-stream]\n",
      "Saving to: ‘ngrok-stable-linux-amd64.zip’\n",
      "\n",
      "ngrok-stable-linux- 100%[===================>]  13,13M  4,32MB/s    in 3,0s    \n",
      "\n",
      "2020-12-06 02:29:40 (4,32 MB/s) - ‘ngrok-stable-linux-amd64.zip’ saved [13773305/13773305]\n",
      "\n",
      "Archive:  ngrok-stable-linux-amd64.zip\n",
      "  inflating: ngrok                   \n"
     ]
    }
   ],
   "source": [
    "# Download ngrok to tunnel port for jupyter\n",
    "!rm -r -f ngrok\n",
    "!wget https://bin.equinox.io/c/4VmDzA7iaHb/ngrok-stable-linux-amd64.zip\n",
    "!unzip ngrok-stable-linux-amd64.zip\n",
    "!rm -r -f ngrok-stable-linux-amd64.zip\n",
    "!chmod +x ngrok"
   ]
  },
  {
   "cell_type": "code",
   "execution_count": 9,
   "metadata": {},
   "outputs": [
    {
     "name": "stdout",
     "output_type": "stream",
     "text": [
      "\r\n"
     ]
    }
   ],
   "source": [
    "# Run tensorboard\n",
    "LOG_DIR = './logs'\n",
    "get_ipython().system_raw(\n",
    "    'tensorboard --logdir {} --host 0.0.0.0 --port 6006 &'\n",
    "    .format(LOG_DIR)\n",
    ")\n",
    "\n",
    "# Run ngrok for making public URL\n",
    "get_ipython().system_raw('./ngrok http 6006 &')\n",
    "\n",
    "# Getting a public url\n",
    "!curl -s http://localhost:4040/api/tunnels | python3 -c \\\n",
    " \"import sys, json; print(json.load(sys.stdin)['tunnels'][0]['public_url'])\""
   ]
  },
  {
   "cell_type": "code",
   "execution_count": null,
   "metadata": {},
   "outputs": [],
   "source": [
    "# Run experiment\n",
    "\n",
    "catalyst-dl run --config=config/train.yml"
   ]
  }
 ],
 "metadata": {
  "kernelspec": {
   "display_name": "Python 3",
   "language": "python",
   "name": "python3"
  },
  "language_info": {
   "codemirror_mode": {
    "name": "ipython",
    "version": 3
   },
   "file_extension": ".py",
   "mimetype": "text/x-python",
   "name": "python",
   "nbconvert_exporter": "python",
   "pygments_lexer": "ipython3",
   "version": "3.8.5"
  }
 },
 "nbformat": 4,
 "nbformat_minor": 2
}
