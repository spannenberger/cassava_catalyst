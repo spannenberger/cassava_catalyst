{
 "cells": [
  {
   "cell_type": "code",
   "execution_count": 1,
   "metadata": {
    "execution": {
     "iopub.execute_input": "2020-11-28T10:30:15.656761Z",
     "iopub.status.busy": "2020-11-28T10:30:15.655897Z",
     "iopub.status.idle": "2020-11-28T10:30:21.210056Z",
     "shell.execute_reply": "2020-11-28T10:30:21.209249Z"
    },
    "papermill": {
     "duration": 5.568415,
     "end_time": "2020-11-28T10:30:21.210219",
     "exception": false,
     "start_time": "2020-11-28T10:30:15.641804",
     "status": "completed"
    },
    "tags": []
   },
   "outputs": [
    {
     "name": "stdout",
     "output_type": "stream",
     "text": [
      "Tensorflow version 2.3.1\n"
     ]
    }
   ],
   "source": [
    "\n",
    "from keras.utils.generic_utils import get_custom_objects \n",
    "import math, re, os\n",
    "import random\n",
    "import tensorflow as tf\n",
    "import numpy as np\n",
    "import pandas as pd\n",
    "from keras import layers\n",
    "from sklearn.model_selection import KFold\n",
    "import matplotlib.pyplot as plt\n",
    "from kaggle_datasets import KaggleDatasets\n",
    "from tensorflow import keras\n",
    "from functools import partial\n",
    "from tensorflow.keras import backend as K\n",
    "from sklearn.model_selection import train_test_split\n",
    "print(\"Tensorflow version \" + tf.__version__)\n",
    "from sklearn.metrics import accuracy_score\n",
    "from collections import Counter\n",
    "from tensorflow.keras.preprocessing.image import ImageDataGenerator\n",
    "\n"
   ]
  },
  {
   "cell_type": "code",
   "execution_count": 2,
   "metadata": {
    "execution": {
     "iopub.execute_input": "2020-11-28T10:30:21.237704Z",
     "iopub.status.busy": "2020-11-28T10:30:21.236743Z",
     "iopub.status.idle": "2020-11-28T10:31:44.523770Z",
     "shell.execute_reply": "2020-11-28T10:31:44.523085Z"
    },
    "papermill": {
     "duration": 83.305099,
     "end_time": "2020-11-28T10:31:44.523897",
     "exception": false,
     "start_time": "2020-11-28T10:30:21.218798",
     "status": "completed"
    },
    "tags": []
   },
   "outputs": [
    {
     "name": "stdout",
     "output_type": "stream",
     "text": [
      "## FOLD: 0\n",
      "## FOLD: 1\n",
      "## FOLD: 2\n",
      "## FOLD: 3\n",
      "## FOLD: 4\n",
      "1/1 [==============================] - 0s 7ms/step\n",
      "1/1 [==============================] - 0s 30ms/step\n",
      "1/1 [==============================] - 0s 30ms/step\n",
      "1/1 [==============================] - 0s 30ms/step\n",
      "1/1 [==============================] - 0s 29ms/step\n"
     ]
    }
   ],
   "source": [
    "def decode_image(path, label=None, target_size=(512, 512)):\n",
    "    img = tf.image.decode_jpeg(tf.io.read_file(path), channels=3)\n",
    "    img = tf.cast(img, tf.float32) / 255.0\n",
    "    img = tf.image.resize(img, target_size)\n",
    "    \n",
    "    return img if label is None else img, label\n",
    "\n",
    "def data_augment(img, label=None):\n",
    "    img = tf.image.random_flip_left_right(img)\n",
    "    img = tf.image.random_flip_up_down(img)\n",
    "    \n",
    "    return img if label is None else img, label\n",
    "\n",
    "class FixedDropout(layers.Dropout):\n",
    "    def _get_noise_shape(self, inputs):\n",
    "        if self.noise_shape is None:\n",
    "            return self.noise_shape\n",
    " \n",
    "        symbolic_shape = K.shape(inputs)\n",
    "        noise_shape = [symbolic_shape[axis] if shape is None else shape\n",
    "                       for axis, shape in enumerate(self.noise_shape)]\n",
    "        return tuple(noise_shape)\n",
    "strategy = tf.distribute.get_strategy()\n",
    "AUTO = tf.data.experimental.AUTOTUNE\n",
    "BATCH_SIZE = 16\n",
    "\n",
    "load_dir = \"/kaggle/input/cassava-leaf-disease-classification/\"\n",
    "sub_df = pd.read_csv(load_dir + 'sample_submission.csv')\n",
    "sub_df['paths'] = load_dir + \"/test_images/\" + sub_df.image_id\n",
    "\n",
    "\n",
    "\n",
    "\n",
    "get_custom_objects()['FixedDropout'] = FixedDropout\n",
    "preds_all = []\n",
    "models = []\n",
    "preds_model = []\n",
    "\n",
    "# ds_test = generator(JPEG_PATH_TR, tr.image_id.values)\n",
    "for fold in range(5):\n",
    "    print(f\"## FOLD: {fold}\")\n",
    "    # BUILD MODEL\n",
    "    K.clear_session()\n",
    "    \n",
    "    models.append(tf.keras.models.load_model(\n",
    "        \"/kaggle/input/notebook4edda1091f/EfficientNetB7-fold-%i.h5\"%fold)\n",
    "         )\n",
    "test_dataset = (\n",
    "    tf.data.Dataset\n",
    "    .from_tensor_slices(sub_df.paths.values)\n",
    "    .map(decode_image, num_parallel_calls=AUTO)\n",
    "    .batch(BATCH_SIZE).prefetch(AUTO))\n",
    "preds = models[0].predict(test_dataset, verbose=1)\n",
    "for i in range(1,5):\n",
    "    test_dataset = (\n",
    "    tf.data.Dataset\n",
    "    .from_tensor_slices(sub_df.paths.values)\n",
    "    .map(decode_image, num_parallel_calls=AUTO)\n",
    "    .batch(BATCH_SIZE).prefetch(AUTO))\n",
    "    preds += models[0].predict(test_dataset, verbose=1)\n",
    "\n",
    "\n",
    "sub_df['label'] = preds.argmax(axis=1)\n",
    "sub_df.drop(columns='paths').to_csv('submission.csv', index=False)\n"
   ]
  },
  {
   "cell_type": "code",
   "execution_count": null,
   "metadata": {
    "papermill": {
     "duration": 0.010397,
     "end_time": "2020-11-28T10:31:44.545292",
     "exception": false,
     "start_time": "2020-11-28T10:31:44.534895",
     "status": "completed"
    },
    "tags": []
   },
   "outputs": [],
   "source": []
  },
  {
   "cell_type": "code",
   "execution_count": null,
   "metadata": {
    "papermill": {
     "duration": 0.009956,
     "end_time": "2020-11-28T10:31:44.565384",
     "exception": false,
     "start_time": "2020-11-28T10:31:44.555428",
     "status": "completed"
    },
    "tags": []
   },
   "outputs": [],
   "source": [
    "\n"
   ]
  }
 ],
 "metadata": {
  "kernelspec": {
   "display_name": "Python 3",
   "language": "python",
   "name": "python3"
  },
  "language_info": {
   "codemirror_mode": {
    "name": "ipython",
    "version": 3
   },
   "file_extension": ".py",
   "mimetype": "text/x-python",
   "name": "python",
   "nbconvert_exporter": "python",
   "pygments_lexer": "ipython3",
   "version": "3.7.6"
  },
  "papermill": {
   "duration": 94.816831,
   "end_time": "2020-11-28T10:31:45.791932",
   "environment_variables": {},
   "exception": null,
   "input_path": "__notebook__.ipynb",
   "output_path": "__notebook__.ipynb",
   "parameters": {},
   "start_time": "2020-11-28T10:30:10.975101",
   "version": "2.1.0"
  }
 },
 "nbformat": 4,
 "nbformat_minor": 4
}
